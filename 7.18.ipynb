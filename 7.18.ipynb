{
 "cells": [
  {
   "cell_type": "markdown",
   "metadata": {},
   "source": [
    "# 选择\n",
    "## 布尔类型、数值和表达式\n",
    "![](../Photo/33.png)\n",
    "- 注意：比较运算符的相等是两个等号，一个等到代表赋值\n",
    "- 在Python中可以用整型0来代表False，其他数字来代表True\n",
    "- 后面还会讲到 is 在判断语句中的用发"
   ]
  },
  {
   "cell_type": "code",
   "execution_count": 1,
   "metadata": {},
   "outputs": [
    {
     "name": "stdout",
     "output_type": "stream",
     "text": [
      "[95, 102, 24, 90, 161, 149, 61, 133, 162, 119, 97, 153, 111, 97, 109, 18, 92, 117, 68, 16, 86, 55, 145, 167, 113, 89, 140, 168, 62, 147, 148, 56, 97, 87, 91, 187, 117, 0, 168, 21, 112, 21, 136, 117, 55, 95, 70, 95, 61, 114, 56, 46, 65, 106, 31, 132, 98, 55, 163, 111, 87, 48, 86, 85, 187, 118, 44, 110, 29, 83, 182, 143, 62, 94, 176, 111, 88, 34, 118, 67, 69, 134, 89, 75, 105, 28, 130, 177, 184, 127, 117, 224, 59, 77, 136, 98, 68, 105, 107, 82]\n"
     ]
    }
   ],
   "source": [
    "# 房间里有100个人，每人都有100元钱，他们在玩一个游戏。\n",
    "# 每轮游戏中，每个人都要拿出一元钱随机给另一个人，最后这100个人的财富分布是怎样的？\n",
    "import random\n",
    "money=[100]*100\n",
    "i=0\n",
    "while 0 not in money:\n",
    "    ran=random.randint(0,99)\n",
    "    money[i]-=1\n",
    "    money[ran]+=1\n",
    "    i+=1\n",
    "    i=i%100\n",
    "print(money)"
   ]
  },
  {
   "cell_type": "code",
   "execution_count": null,
   "metadata": {},
   "outputs": [],
   "source": [
    "# coding:utf-8\n",
    "# 房间里有100个人，每人都有100元钱，他们在玩一个游戏。\n",
    "# 每轮游戏中，每个人都要拿出一元钱随机给另一个人，最后这100个人的财富分布是怎样的？\n",
    "import matplotlib.pyplot as plt\n",
    "import pandas as pd\n",
    "import random\n",
    "person = 100\n",
    "id_list = range(person)\n",
    "id_money_dict = {k: person for k in id_list}\n",
    "round_number = 17000\n",
    "for round in range(round_number):\n",
    "    for id in id_money_dict.keys():\n",
    "        id_money_dict[id] += -1\n",
    "        id_get = random.randint(0, person-1)\n",
    "        while id_get == id:\n",
    "            id_get = random.randint(0, person - 1)\n",
    "        id_money_dict[id_get] += 1\n",
    "se = pd.Series(id_money_dict)\n",
    "se.plot.bar()\n",
    "plt.show()\n",
    "plt.close()\n",
    "plt.show()\n",
    "plt.close()\n",
    "se.plot.hist(bins=100)\n",
    "plt.show()"
   ]
  },
  {
   "cell_type": "code",
   "execution_count": 1,
   "metadata": {},
   "outputs": [
    {
     "name": "stdout",
     "output_type": "stream",
     "text": [
      "1475046880 1475046880\n"
     ]
    }
   ],
   "source": [
    "a = id(1)\n",
    "b = id(1) #a b 不是同一个对象   a is b\n",
    "print(a,b)"
   ]
  },
  {
   "cell_type": "code",
   "execution_count": 2,
   "metadata": {},
   "outputs": [
    {
     "data": {
      "text/plain": [
       "False"
      ]
     },
     "execution_count": 2,
     "metadata": {},
     "output_type": "execute_result"
    }
   ],
   "source": [
    "a = \"joker\"\n",
    "b = \"joker\"\n",
    "a > b"
   ]
  },
  {
   "cell_type": "code",
   "execution_count": 3,
   "metadata": {},
   "outputs": [
    {
     "data": {
      "text/plain": [
       "True"
      ]
     },
     "execution_count": 3,
     "metadata": {},
     "output_type": "execute_result"
    }
   ],
   "source": [
    "a = \"joker\"\n",
    "b = \"ac\"\n",
    "a > b"
   ]
  },
  {
   "cell_type": "markdown",
   "metadata": {},
   "source": [
    "## 字符串的比较使用ASCII值"
   ]
  },
  {
   "cell_type": "markdown",
   "metadata": {},
   "source": [
    "## Markdown \n",
    "- https://github.com/younghz/Markdown"
   ]
  },
  {
   "cell_type": "markdown",
   "metadata": {},
   "source": [
    "y = a + k"
   ]
  },
  {
   "cell_type": "markdown",
   "metadata": {},
   "source": [
    "## EP:\n",
    "- <img src=\"../Photo/34.png\"></img>\n",
    "- 输入一个数字，判断其实奇数还是偶数"
   ]
  },
  {
   "cell_type": "markdown",
   "metadata": {},
   "source": [
    "## 产生随机数字\n",
    "- 函数random.randint(a,b) 可以用来产生一个a和b之间且包括a和b的随机整数"
   ]
  },
  {
   "cell_type": "markdown",
   "metadata": {},
   "source": [
    "产生一个随机数，你去输入，如果你输入的数大于随机数，那么就告诉你太大了，反之，太小了，\n",
    "然后你一直输入，知道它满意为止"
   ]
  },
  {
   "cell_type": "code",
   "execution_count": 1,
   "metadata": {},
   "outputs": [
    {
     "name": "stdout",
     "output_type": "stream",
     "text": [
      ">>2\n",
      "7\n",
      "太小了\n",
      ">>3\n",
      "9\n",
      "太小了\n",
      ">>4\n",
      "3\n",
      "太大了\n",
      ">>5\n",
      "5\n",
      "正好\n"
     ]
    }
   ],
   "source": [
    "for i in range(5):\n",
    "    import random\n",
    "    number = eval(input('>>'))\n",
    "    b = random.randint(0,20)\n",
    "    print(b)\n",
    "    if number > b:\n",
    "        print('太大了')\n",
    "    if number < b:\n",
    "        print('太小了')\n",
    "    if number == b:\n",
    "        print('正好')\n",
    "        break"
   ]
  },
  {
   "cell_type": "markdown",
   "metadata": {},
   "source": [
    "######  其他random方法\n",
    "- random.random 返回0.0到1.0之间前闭后开区间的随机浮点\n",
    "- random.randrange(a,b) 前闭后开"
   ]
  },
  {
   "cell_type": "code",
   "execution_count": 2,
   "metadata": {},
   "outputs": [
    {
     "data": {
      "text/plain": [
       "0.8894443824040208"
      ]
     },
     "execution_count": 2,
     "metadata": {},
     "output_type": "execute_result"
    }
   ],
   "source": [
    "random.random()"
   ]
  },
  {
   "cell_type": "markdown",
   "metadata": {},
   "source": [
    "## EP：\n",
    "- 产生两个随机整数number1和number2，然后显示给用户，使用户输入数字的和，并判定其是否正确\n",
    "- 进阶:写一个随机序号点名程序"
   ]
  },
  {
   "cell_type": "code",
   "execution_count": null,
   "metadata": {},
   "outputs": [],
   "source": [
    "import random\n",
    "number_1 = random.randrange(0,10)\n",
    "number_2 =random.randrange(0,10)\n",
    "print(number_1,number_2)\n",
    "while 1:\n",
    "    number = eval(input('请输入一个数:'))\n",
    "    if number == (number_1+number_2):\n",
    "        print('正确')\n",
    "    else:\n",
    "        print('错误')"
   ]
  },
  {
   "cell_type": "code",
   "execution_count": null,
   "metadata": {},
   "outputs": [],
   "source": [
    "import random\n",
    "while 1:\n",
    "    number = eval(input('请输入一个数:'))\n",
    "    number_1 = random.randrange(0,10)\n",
    "    number_2 =random.randrange(0,10)\n",
    "    print(number_1,number_2)\n",
    "    if number == (number_1+number_2):\n",
    "        print('正确')\n",
    "    else:\n",
    "        print('错误')"
   ]
  },
  {
   "cell_type": "markdown",
   "metadata": {},
   "source": [
    "## if语句\n",
    "- 如果条件正确就执行一个单向if语句，亦即当条件为真的时候才执行if内部的语句\n",
    "- Python有很多选择语句:\n",
    "> - 单向if \n",
    "  - 双向if-else\n",
    "  - 嵌套if\n",
    "  - 多向if-elif-else\n",
    "  \n",
    "- 注意：当语句含有子语句的时候，那么一定至少要有一个缩进，也就是说如果有儿子存在，那么一定要缩进\n",
    "- 切记不可tab键和space混用，单用tab 或者 space\n",
    "- 当你输出的结果是无论if是否为真时都需要显示时，语句应该与if对齐"
   ]
  },
  {
   "cell_type": "code",
   "execution_count": 3,
   "metadata": {},
   "outputs": [
    {
     "name": "stdout",
     "output_type": "stream",
     "text": [
      "年轻吗[y/n]y\n",
      "帅否[y/n]y\n",
      "有没有老婆[y/n]y\n",
      "回家的诱惑\n"
     ]
    }
   ],
   "source": [
    "age = input('年轻吗[y/n]')\n",
    "if age == 'y':\n",
    "    handsome = input('帅否[y/n]')\n",
    "    if handsome == 'y':\n",
    "        wife = input('有没有老婆[y/n]')\n",
    "        if wife == 'y':\n",
    "            print('回家的诱惑')\n",
    "        else:\n",
    "                print('立马结婚')\n",
    "    else:\n",
    "            print('考虑一下')\n",
    "else:\n",
    "    print('拜拜~')"
   ]
  },
  {
   "cell_type": "markdown",
   "metadata": {},
   "source": [
    "## EP：\n",
    "- 用户输入一个数字，判断其实奇数还是偶数\n",
    "- 进阶：可以查看下4.5实例研究猜生日"
   ]
  },
  {
   "cell_type": "markdown",
   "metadata": {},
   "source": [
    "## 双向if-else 语句\n",
    "- 如果条件为真，那么走if内部语句，否则走else内部语句"
   ]
  },
  {
   "cell_type": "markdown",
   "metadata": {},
   "source": [
    "## EP：\n",
    "- 产生两个随机整数number1和number2，然后显示给用户，使用户输入数字，并判定其是否正确,如果正确打印“you‘re correct”，否则打印正确错误"
   ]
  },
  {
   "cell_type": "markdown",
   "metadata": {},
   "source": [
    "## 嵌套if 和多向if-elif-else\n",
    "![](../Photo/35.png)"
   ]
  },
  {
   "cell_type": "code",
   "execution_count": null,
   "metadata": {},
   "outputs": [],
   "source": [
    "if score >= 80:\n",
    "    grade = 'B'\n",
    "    elif score >= 90:"
   ]
  },
  {
   "cell_type": "markdown",
   "metadata": {},
   "source": [
    "## EP：\n",
    "- 提示用户输入一个年份，然后显示表示这一年的动物\n",
    "![](../Photo/36.png)\n",
    "- 计算身体质量指数的程序\n",
    "- BMI = 以千克为单位的体重除以以米为单位的身高的平方\n",
    "![](../Photo/37.png)"
   ]
  },
  {
   "cell_type": "code",
   "execution_count": 14,
   "metadata": {},
   "outputs": [
    {
     "name": "stdout",
     "output_type": "stream",
     "text": [
      "体重55\n",
      "身高1.66\n",
      "标准\n"
     ]
    }
   ],
   "source": [
    "tizhong = eval(input('体重'))\n",
    "shenggao = eval(input('身高'))\n",
    "BMI = tizhong / shenggao ** 2\n",
    "if BMI < 18.5 :\n",
    "    print('超轻')\n",
    "elif 18.5 <= BMI <25 :\n",
    "    print('标准')\n",
    "elif 25 <= BMI <30 :\n",
    "    print('超重')\n",
    "elif 30 <= BMI :\n",
    "    print('痴肥')"
   ]
  },
  {
   "cell_type": "code",
   "execution_count": 1,
   "metadata": {},
   "outputs": [
    {
     "name": "stdout",
     "output_type": "stream",
     "text": [
      "Years >>1997\n",
      "牛\n"
     ]
    }
   ],
   "source": [
    "year = eval (input('Years >>'))\n",
    "if year % 12 == 0 :\n",
    "    res = '猴'\n",
    "elif year % 12 == 1 :\n",
    "    res = '鸡'\n",
    "elif year % 12 == 2 :\n",
    "    res = '狗'\n",
    "elif year % 12 == 3 :\n",
    "    res = '猪'\n",
    "elif year % 12 == 4 :\n",
    "    res = '鼠'\n",
    "elif year % 12 == 5 :\n",
    "    res = '牛'\n",
    "elif year % 12 == 6 :\n",
    "    res = '虎'\n",
    "elif year % 12 == 7 :\n",
    "    res = '兔'\n",
    "elif year % 12 == 8 :\n",
    "    res = '龙'\n",
    "elif year % 12 == 9 :\n",
    "    res = '蛇'\n",
    "elif year % 12 == 10 :\n",
    "    res = '马'\n",
    "elif year % 12 == 11 :\n",
    "    res = '羊'\n",
    "print(res) "
   ]
  },
  {
   "cell_type": "markdown",
   "metadata": {},
   "source": [
    "![](../Photo/39.png)\n",
    "![](../Photo/40.png)"
   ]
  },
  {
   "cell_type": "markdown",
   "metadata": {},
   "source": [
    "## EP：\n",
    "- 判定闰年：一个年份如果能被4整除但不能被100整除，或者能被400整除，那么这个年份就是闰年\n",
    "- 提示用户输入一个年份，并返回是否是闰年\n",
    "- 提示用户输入一个数字，判断其是否为水仙花数"
   ]
  },
  {
   "cell_type": "code",
   "execution_count": 2,
   "metadata": {},
   "outputs": [
    {
     "name": "stdout",
     "output_type": "stream",
     "text": [
      "请输入年份2019\n",
      "为平年\n"
     ]
    }
   ],
   "source": [
    "year = eval(input('请输入年份'))\n",
    "if ((year%4==0) and (year%100!=0)) or(year%400==0):\n",
    "    print('是闰年')\n",
    "else:\n",
    "    print('为平年')"
   ]
  },
  {
   "cell_type": "code",
   "execution_count": 3,
   "metadata": {},
   "outputs": [
    {
     "name": "stdout",
     "output_type": "stream",
     "text": [
      "请输入年份2099\n",
      "不是闰年\n"
     ]
    }
   ],
   "source": [
    "year = eval(input('请输入年份'))\n",
    "if ((year%4==0) and (year%100!=0)) or(year%400==0):\n",
    "    print('是闰年')\n",
    "else:\n",
    "    print('不是闰年')"
   ]
  },
  {
   "cell_type": "code",
   "execution_count": 4,
   "metadata": {},
   "outputs": [
    {
     "name": "stdout",
     "output_type": "stream",
     "text": [
      ">>222\n",
      "不是水仙花\n"
     ]
    }
   ],
   "source": [
    "number = eval(input('>>'))\n",
    "\n",
    "bai = number // 100\n",
    "shi = number //10 % 10\n",
    "ge = number % 10\n",
    "if bai**3 + shi **3 + ge **3 == number:\n",
    "    print('不是水仙花')\n",
    "else:\n",
    "    print('不是水仙花')"
   ]
  },
  {
   "cell_type": "markdown",
   "metadata": {},
   "source": [
    "## 实例研究：彩票\n",
    "![](../Photo/41.png)"
   ]
  },
  {
   "cell_type": "code",
   "execution_count": 5,
   "metadata": {},
   "outputs": [],
   "source": [
    "import random"
   ]
  },
  {
   "cell_type": "code",
   "execution_count": 13,
   "metadata": {},
   "outputs": [
    {
     "name": "stdout",
     "output_type": "stream",
     "text": [
      "98\n",
      ">>78\n",
      "1000\n"
     ]
    }
   ],
   "source": [
    "number = random.randint(10,99)\n",
    "print(number)\n",
    "N = input('>>')\n",
    "number_shi = number // 10\n",
    "number_ge = number % 10\n",
    "\n",
    "if N[0] == '0':\n",
    "    N_shi = 0\n",
    "else:\n",
    "    N_shi = int(N) // 10\n",
    "    N_ge = int(N) % 10\n",
    "\n",
    "if number == int(N):\n",
    "    print('10000')\n",
    "#elif (number_shi == N_shi or number_shi==N_ge) and (number_ge == N_shi or number_ge==N_ge)\n",
    "elif number_shi + number_ge == N_shi + N_ge:\n",
    "    print('3000')\n",
    "elif (number_ge == N_ge or number_ge == N_shi) or (number_shi == N_ge or number_shi == N_shi):\n",
    "    print('1000')"
   ]
  },
  {
   "cell_type": "markdown",
   "metadata": {},
   "source": [
    "# Homework\n",
    "- 1\n",
    "![](../Photo/42.png)"
   ]
  },
  {
   "cell_type": "code",
   "execution_count": 1,
   "metadata": {},
   "outputs": [
    {
     "name": "stdout",
     "output_type": "stream",
     "text": [
      "输入一个值1,2,3\n",
      "The equation has no real roots\n"
     ]
    }
   ],
   "source": [
    "import math\n",
    "a,b,c = eval(input('输入一个值'))\n",
    "if b**2-(4*a*c)>0:\n",
    "    r1 = (-b+math.sqrt(b**2-4*a*c))/(2*a)\n",
    "    r2 = (-b-math.sqrt(b**2-4*a*c))/(2*a)\n",
    "    print(r1,r2)\n",
    "if b**2-(4*a*c)==0:\n",
    "    r1 = (-b+math.sqrt(b**2-4*a*c))/(2*a)\n",
    "    print(r1,r2)\n",
    "if b**2-(4*a*c)<0:\n",
    "    print('The equation has no real roots')"
   ]
  },
  {
   "cell_type": "markdown",
   "metadata": {},
   "source": [
    "- 2\n",
    "![](../Photo/43.png)"
   ]
  },
  {
   "cell_type": "code",
   "execution_count": 2,
   "metadata": {},
   "outputs": [
    {
     "name": "stdout",
     "output_type": "stream",
     "text": [
      "number23\n",
      "结果为假\n"
     ]
    }
   ],
   "source": [
    "import random\n",
    "number1 = random.randrange(1,100)\n",
    "number2 = random.randrange(1,100)\n",
    "a = eval(input('number'))\n",
    "if a==( number1+number2):\n",
    "    print('结果为真')\n",
    "else :\n",
    "    print('结果为假')"
   ]
  },
  {
   "cell_type": "markdown",
   "metadata": {},
   "source": [
    "- 3\n",
    "![](../Photo/44.png)"
   ]
  },
  {
   "cell_type": "code",
   "execution_count": 3,
   "metadata": {},
   "outputs": [
    {
     "name": "stdout",
     "output_type": "stream",
     "text": [
      "0-6内的任一个数字5\n",
      "几天后9\n",
      "9 天后是星期 7\n"
     ]
    }
   ],
   "source": [
    "day = eval(input('0-6内的任一个数字'))\n",
    "today = eval(input('几天后'))\n",
    "if day==0:\n",
    "    x = today%7+day\n",
    "    print(today,'天后是星期',x)\n",
    "if day==1:\n",
    "    x = today%7+day\n",
    "    print(today,'天后是星期',x)\n",
    "if day==2:\n",
    "    x = today%7+day\n",
    "    print(today,'天后是星期',x)\n",
    "if day==3:\n",
    "    x = today%7+day\n",
    "    print(today,'天后是星期',x)\n",
    "if day==4:\n",
    "    x = today%7+day\n",
    "    print(today,'天后是星期',x)\n",
    "if day==5:\n",
    "    x = today%7+day\n",
    "    print(today,'天后是星期',x)\n",
    "if day==6:\n",
    "    x = today%7+day\n",
    "    print(today,'天后是星期',x)"
   ]
  },
  {
   "cell_type": "markdown",
   "metadata": {},
   "source": [
    "- 4\n",
    "![](../Photo/45.png)"
   ]
  },
  {
   "cell_type": "code",
   "execution_count": 4,
   "metadata": {},
   "outputs": [
    {
     "name": "stdout",
     "output_type": "stream",
     "text": [
      "输入三个整数2,4,1\n",
      "4 2 1\n"
     ]
    }
   ],
   "source": [
    "a,b,c = eval(input('输入三个整数'))\n",
    "if a>b>c:\n",
    "    print(a,b,c)\n",
    "if a>c>b:\n",
    "    print(a,c,b)\n",
    "if b>c>a:\n",
    "    print(b,c,a)\n",
    "if b>a>c:\n",
    "    print(b,a,c)\n",
    "if c>b>a:\n",
    "    print(c,b,a)\n",
    "if c>a>b:\n",
    "    print(c,a,b)"
   ]
  },
  {
   "cell_type": "code",
   "execution_count": 2,
   "metadata": {},
   "outputs": [
    {
     "name": "stdout",
     "output_type": "stream",
     "text": [
      "x1\n",
      "y2\n",
      "z3\n",
      "1 2 3\n"
     ]
    }
   ],
   "source": [
    "x = int(input(\"x\"))\n",
    "y = int(input(\"y\"))\n",
    "z = int(input(\"z\"))\n",
    "if x>y:\n",
    "    x,y = y,x\n",
    "if x>z:\n",
    "    x,z = z,x\n",
    "if y>z:\n",
    "    y,z = z,y\n",
    "print(x,y,z)"
   ]
  },
  {
   "cell_type": "markdown",
   "metadata": {},
   "source": [
    "- 5\n",
    "![](../Photo/46.png)"
   ]
  },
  {
   "cell_type": "code",
   "execution_count": 5,
   "metadata": {},
   "outputs": [
    {
     "name": "stdout",
     "output_type": "stream",
     "text": [
      "第一种包装100,23\n",
      "第二种包装90,34\n",
      "第一个包装价钱更好\n"
     ]
    }
   ],
   "source": [
    "weight1, money1 = eval(input('第一种包装'))\n",
    "weight2, money2 = eval(input('第二种包装'))\n",
    "if (money1/weight1)/(money2/weight2)>1:\n",
    "    print('第二个包装价钱更好')\n",
    "elif (money1/weight1)/(money2/weight2)<1:\n",
    "    print('第一个包装价钱更好')"
   ]
  },
  {
   "cell_type": "markdown",
   "metadata": {},
   "source": [
    "- 6\n",
    "![](../Photo/47.png)"
   ]
  },
  {
   "cell_type": "code",
   "execution_count": 6,
   "metadata": {},
   "outputs": [
    {
     "name": "stdout",
     "output_type": "stream",
     "text": [
      "输入月份5\n",
      "输入年份1997\n",
      "1997 年 5 月 有31天\n"
     ]
    }
   ],
   "source": [
    "month = eval(input('输入月份'))\n",
    "year = eval(input('输入年份'))\n",
    "if ((year%4==0) and (year%100!=0)) or (year%400==0):\n",
    "    if month<=7:\n",
    "        if month%2==0:\n",
    "            if month==2:\n",
    "                print(year,'年',month,'月','有29天')\n",
    "            else:\n",
    "                print(year,'年',month,'月','有30天')\n",
    "        else:\n",
    "            print(year,'年',month,'月','有31天')\n",
    "    else:\n",
    "        if month%2==0:\n",
    "            print(year,'年',month,'月','有31天')\n",
    "        else:\n",
    "            print(year,'年',month,'月','有30天')\n",
    "else :\n",
    "    if month<=7:\n",
    "        if month%2==0:\n",
    "            if month==2:\n",
    "                print(year,'年',month,'月','有28天')\n",
    "            else:\n",
    "                print(year,'年',month,'月','有30天')\n",
    "        else:\n",
    "            print(year,'年',month,'月','有31天')\n",
    "    else:\n",
    "        if month%2==0:\n",
    "            print(year,'年',month,'月','有31天')\n",
    "        else:\n",
    "            print(year,'年',month,'月','有30天')"
   ]
  },
  {
   "cell_type": "markdown",
   "metadata": {},
   "source": [
    "- 7\n",
    "![](../Photo/48.png)"
   ]
  },
  {
   "cell_type": "code",
   "execution_count": 7,
   "metadata": {},
   "outputs": [
    {
     "name": "stdout",
     "output_type": "stream",
     "text": [
      "正面为1，反面为0 输入猜测数字1\n",
      "猜测正确\n"
     ]
    }
   ],
   "source": [
    "x = random.randint(0,1)\n",
    "y = eval(input('正面为1，反面为0 输入猜测数字'))\n",
    "if y == x:\n",
    "    print('猜测正确')\n",
    "else :\n",
    "    print('猜测错误')"
   ]
  },
  {
   "cell_type": "markdown",
   "metadata": {},
   "source": [
    "- 8\n",
    "![](../Photo/49.png)"
   ]
  },
  {
   "cell_type": "code",
   "execution_count": 8,
   "metadata": {},
   "outputs": [
    {
     "name": "stdout",
     "output_type": "stream",
     "text": [
      "剪刀为0，石头为1，布为2，剪刀-石头-布：2\n",
      "it is a draw\n"
     ]
    }
   ],
   "source": [
    "import random\n",
    "computer = random.randint(0,2)\n",
    "mine = eval(input('剪刀为0，石头为1，布为2，剪刀-石头-布：'))\n",
    "if computer>mine:\n",
    "    print('computer won')\n",
    "if computer<mine:\n",
    "    print('mine won')\n",
    "if computer==mine:\n",
    "    print('it is a draw')"
   ]
  },
  {
   "cell_type": "markdown",
   "metadata": {},
   "source": [
    "- 9\n",
    "![](../Photo/50.png)"
   ]
  },
  {
   "cell_type": "code",
   "execution_count": 9,
   "metadata": {},
   "outputs": [
    {
     "name": "stdout",
     "output_type": "stream",
     "text": [
      "输入年份2009\n",
      "输入月份9\n",
      "输入天数12\n",
      "day of the  0.7224999999999966\n"
     ]
    }
   ],
   "source": [
    "year = eval(input('输入年份'))\n",
    "m = eval(input('输入月份'))\n",
    "q = eval(input('输入天数'))\n",
    "if m>=3:\n",
    "    j = year/100\n",
    "    k = year%100\n",
    "    h = (q+((26*(m+1))/10)+k+(k/4)+(j/4)+(5*j))%7\n",
    "    if h == 0:\n",
    "        print('六')\n",
    "    if h == 1:\n",
    "        print('日')\n",
    "    if h == 2:\n",
    "        print('一')\n",
    "    if h == 3:\n",
    "        print('二')\n",
    "    if h == 4:\n",
    "        print('三')\n",
    "    if h == 5:\n",
    "        print('四')\n",
    "    if h == 6:\n",
    "        print('五')\n",
    "    print('day of the ',h)\n",
    "if m<3:\n",
    "    m1=13\n",
    "    j = (year-1)/100\n",
    "    k = (year-1)%100\n",
    "    h1 = q+(26*(m1+1))/10\n",
    "    h2 = k+k/4+j/4+5*j\n",
    "    h = (h1+h2)%7\n",
    "    if h == 0:\n",
    "        print('六')\n",
    "    if h == 1:\n",
    "        print('日')\n",
    "    if h == 2:\n",
    "        print('一')\n",
    "    if h == 3:\n",
    "        print('二')\n",
    "    if h == 4:\n",
    "        print('三')\n",
    "    if h == 5:\n",
    "        print('四')\n",
    "    if h == 6:\n",
    "        print('五')\n",
    "    print('day of the ',h)"
   ]
  },
  {
   "cell_type": "markdown",
   "metadata": {},
   "source": [
    "- 10\n",
    "![](../Photo/51.png)"
   ]
  },
  {
   "cell_type": "code",
   "execution_count": 11,
   "metadata": {},
   "outputs": [
    {
     "name": "stdout",
     "output_type": "stream",
     "text": [
      "梅花\n",
      "6\n"
     ]
    }
   ],
   "source": [
    "y = random.randint(1,52)\n",
    "if y%13==0:\n",
    "    if y//13==0:\n",
    "        print('梅花')\n",
    "    if y//13==1:\n",
    "        print('红桃')\n",
    "    if y//13==2:\n",
    "        print('方块')\n",
    "    if y//13==3:\n",
    "        print('黑桃')\n",
    "    print('Ace')\n",
    "    \n",
    "if y%13==10:\n",
    "    if y//13==0:\n",
    "        print('梅花')\n",
    "    if y//13==1:\n",
    "        print('红桃')\n",
    "    if y//13==2:\n",
    "        print('方块')\n",
    "    if y//13==3:\n",
    "        print('黑桃')\n",
    "    print('Jack')\n",
    "if y%13==11:\n",
    "    if y//13==0:\n",
    "        print('梅花')\n",
    "    if y//13==1:\n",
    "        print('红桃')\n",
    "    if y//13==2:\n",
    "        print('方块')\n",
    "    if y//13==3:\n",
    "        print('黑桃')\n",
    "    print('Queen')\n",
    "if y%13==12:\n",
    "    if y//13==0:\n",
    "        print('梅花')\n",
    "    if y//13==1:\n",
    "        print('红桃')\n",
    "    if y//13==2:\n",
    "        print('方块')\n",
    "    if y//13==3:\n",
    "        print('黑桃')\n",
    "    print('King')\n",
    "elif  1<=y%13<=10:\n",
    "    if y//13==0:\n",
    "        print('梅花')\n",
    "    if y//13==1:\n",
    "        print('红桃')\n",
    "    if y//13==2:\n",
    "        print('方块')\n",
    "    if y//13==3:\n",
    "        print('黑桃')\n",
    "    print(y%13)"
   ]
  },
  {
   "cell_type": "markdown",
   "metadata": {},
   "source": [
    "- 11\n",
    "![](../Photo/52.png)"
   ]
  },
  {
   "cell_type": "code",
   "execution_count": 13,
   "metadata": {},
   "outputs": [
    {
     "name": "stdout",
     "output_type": "stream",
     "text": [
      "输入一个三位整数234\n",
      "不是回文数\n"
     ]
    }
   ],
   "source": [
    "x = eval(input('输入一个三位整数'))\n",
    "if x%10==x//100:\n",
    "    print('是回文数')\n",
    "else:\n",
    "    print('不是回文数')"
   ]
  },
  {
   "cell_type": "code",
   "execution_count": 16,
   "metadata": {},
   "outputs": [
    {
     "name": "stdout",
     "output_type": "stream",
     "text": [
      "输入一个三位整数232\n",
      "是回文数\n"
     ]
    }
   ],
   "source": [
    "x = eval(input('输入一个三位整数'))\n",
    "if x%10==x//100:\n",
    "    print('是回文数')\n",
    "else:\n",
    "    print('不是回文数')"
   ]
  },
  {
   "cell_type": "markdown",
   "metadata": {},
   "source": [
    "- 12\n",
    "![](../Photo/53.png)"
   ]
  },
  {
   "cell_type": "code",
   "execution_count": 18,
   "metadata": {},
   "outputs": [
    {
     "name": "stdout",
     "output_type": "stream",
     "text": [
      "输入边长3,4,3\n",
      "10\n"
     ]
    }
   ],
   "source": [
    "a,b,c = eval(input('输入边长'))\n",
    "if (a+b>c) and (a+c>b) and (b+c>a):\n",
    "    print(a+b+c)\n",
    "else:\n",
    "    print('输入的边长不符合')"
   ]
  },
  {
   "cell_type": "code",
   "execution_count": 19,
   "metadata": {},
   "outputs": [
    {
     "name": "stdout",
     "output_type": "stream",
     "text": [
      "输入边长1,2,4\n",
      "输入的边长不符合\n"
     ]
    }
   ],
   "source": [
    "a,b,c = eval(input('输入边长'))\n",
    "if (a+b>c) and (a+c>b) and (b+c>a):\n",
    "    print(a+b+c)\n",
    "else:\n",
    "    print('输入的边长不符合')"
   ]
  }
 ],
 "metadata": {
  "kernelspec": {
   "display_name": "Python 3",
   "language": "python",
   "name": "python3"
  },
  "language_info": {
   "codemirror_mode": {
    "name": "ipython",
    "version": 3
   },
   "file_extension": ".py",
   "mimetype": "text/x-python",
   "name": "python",
   "nbconvert_exporter": "python",
   "pygments_lexer": "ipython3",
   "version": "3.7.3"
  }
 },
 "nbformat": 4,
 "nbformat_minor": 2
}
